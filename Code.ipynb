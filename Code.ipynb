{
  "cells": [
    {
      "cell_type": "markdown",
      "source": [
        "### **Project Development Phase**\n",
        "###                **Sprint 3** \n",
        "### **Team ID: PNT2022TMID35710**\n",
        "### **Project Name: Intelligent Vehicle Damage Assessment and Cost Estimator for Insurance Companies**"
      ],
      "metadata": {
        "id": "WkbYlQwTXgZU"
      }
    },
    {
      "cell_type": "markdown",
      "metadata": {
        "id": "CwgcuSouor6J"
      },
      "source": [
        "# **Image Pre Processing**"
      ]
    },
    {
      "cell_type": "code",
      "source": [
        "from google.colab import drive\n",
        "drive.mount('/content/drive')"
      ],
      "metadata": {
        "id": "GDUnbBUs9_3H",
        "colab": {
          "base_uri": "https://localhost:8080/"
        },
        "outputId": "308ceb48-0733-4803-b99c-e560610a996b"
      },
      "execution_count": null,
      "outputs": [
        {
          "output_type": "stream",
          "name": "stdout",
          "text": [
            "Drive already mounted at /content/drive; to attempt to forcibly remount, call drive.mount(\"/content/drive\", force_remount=True).\n"
          ]
        }
      ]
    },
    {
      "cell_type": "code",
      "execution_count": null,
      "metadata": {
        "id": "9J30IS0hfyOy"
      },
      "outputs": [],
      "source": [
        "from tensorflow.keras.preprocessing.image import ImageDataGenerator"
      ]
    },
    {
      "cell_type": "code",
      "execution_count": null,
      "metadata": {
        "id": "7oxEvzGDjblK"
      },
      "outputs": [],
      "source": [
        "train_datagen = ImageDataGenerator(rescale=1./255, \n",
        "                                   shear_range=0.1, \n",
        "                                   zoom_range=0.1, \n",
        "                                   horizontal_flip=True)"
      ]
    },
    {
      "cell_type": "code",
      "execution_count": null,
      "metadata": {
        "id": "tDSP-cXokF_x"
      },
      "outputs": [],
      "source": [
        "val_datagen = ImageDataGenerator(rescale = 1./255)"
      ]
    },
    {
      "cell_type": "markdown",
      "metadata": {
        "id": "H5pEOxTbkjbI"
      },
      "source": [
        "## **For Body**"
      ]
    },
    {
      "cell_type": "code",
      "execution_count": null,
      "metadata": {
        "id": "z_gnIGq9kTRe",
        "colab": {
          "base_uri": "https://localhost:8080/"
        },
        "outputId": "c8b513fc-d6d7-4036-ab87-c90f04331203"
      },
      "outputs": [
        {
          "output_type": "stream",
          "name": "stdout",
          "text": [
            "Found 979 images belonging to 3 classes.\n",
            "Found 171 images belonging to 3 classes.\n"
          ]
        }
      ],
      "source": [
        "training_set = train_datagen.flow_from_directory('/content/drive/MyDrive/Car damage/body/training',\n",
        "                                                 target_size=(224,224), \n",
        "                                                 batch_size=10, \n",
        "                                                 class_mode='categorical')\n",
        "\n",
        "test_set = val_datagen.flow_from_directory('/content/drive/MyDrive/Car damage/body/validation',\n",
        "                                           target_size =(224,224), \n",
        "                                           batch_size=10, \n",
        "                                           class_mode='categorical')"
      ]
    },
    {
      "cell_type": "markdown",
      "metadata": {
        "id": "co_aj7FHmc8i"
      },
      "source": [
        "# **For the level of Damage:**\n",
        "\n"
      ]
    },
    {
      "cell_type": "code",
      "execution_count": null,
      "metadata": {
        "id": "1-CzG8U4mlNg",
        "colab": {
          "base_uri": "https://localhost:8080/"
        },
        "outputId": "ec6127a6-e18d-463c-efce-02818cc050d5"
      },
      "outputs": [
        {
          "output_type": "stream",
          "name": "stdout",
          "text": [
            "Found 979 images belonging to 3 classes.\n",
            "Found 171 images belonging to 3 classes.\n"
          ]
        }
      ],
      "source": [
        "training_set = train_datagen.flow_from_directory('/content/drive/MyDrive/Car damage/level/training',\n",
        "                                                 target_size=(224,224), \n",
        "                                                 batch_size=10, \n",
        "                                                 class_mode='categorical')\n",
        "\n",
        "test_set = val_datagen.flow_from_directory('/content/drive/MyDrive/Car damage/level/validation', \n",
        "                                           target_size=(224,224), \n",
        "                                           batch_size=10, \n",
        "                                           class_mode='categorical')"
      ]
    },
    {
      "cell_type": "markdown",
      "metadata": {
        "id": "xc149Z45l90j"
      },
      "source": [
        "# Model Building for Body"
      ]
    },
    {
      "cell_type": "markdown",
      "metadata": {
        "id": "bvdxH1ZRmwmZ"
      },
      "source": [
        "# **1.Importing the Model Building Libraries**"
      ]
    },
    {
      "cell_type": "code",
      "execution_count": null,
      "metadata": {
        "id": "SsQ0ipR4mAG4"
      },
      "outputs": [],
      "source": [
        "import tensorflow as tf\n",
        "from tensorflow.keras.layers import Input, Lambda, Dense, Flatten\n",
        "from tensorflow.keras.models import Model\n",
        "from tensorflow.keras.applications.vgg16 import VGG16\n",
        "from tensorflow.keras.applications.vgg19 import VGG19\n",
        "from tensorflow.keras.preprocessing import image\n",
        "from tensorflow.keras.preprocessing.image import ImageDataGenerator, load_img\n",
        "from tensorflow.keras.models import Sequential\n",
        "import numpy as np\n",
        "from glob import glob\n"
      ]
    },
    {
      "cell_type": "markdown",
      "metadata": {
        "id": "lOWHvAAGnM8E"
      },
      "source": [
        "# Loading the Model"
      ]
    },
    {
      "cell_type": "code",
      "execution_count": null,
      "metadata": {
        "id": "hUjcbCkenPv4"
      },
      "outputs": [],
      "source": [
        "Image_Size = [224,224,3]\n",
        "train_path = '/content/drive/MyDrive/Car damage/level/training'\n",
        "valid_path = '/content/drive/MyDrive/Car damage/level/validation'"
      ]
    },
    {
      "cell_type": "code",
      "execution_count": null,
      "metadata": {
        "id": "70S3ZX9Jn28j",
        "colab": {
          "base_uri": "https://localhost:8080/"
        },
        "outputId": "385922db-c0d2-46f2-b435-bb462b3a5fa6"
      },
      "outputs": [
        {
          "output_type": "stream",
          "name": "stdout",
          "text": [
            "Downloading data from https://storage.googleapis.com/tensorflow/keras-applications/vgg16/vgg16_weights_tf_dim_ordering_tf_kernels_notop.h5\n",
            "58889256/58889256 [==============================] - 2s 0us/step\n"
          ]
        }
      ],
      "source": [
        "vgg16 = VGG16(input_shape=Image_Size, weights='imagenet', include_top=False) "
      ]
    },
    {
      "cell_type": "markdown",
      "metadata": {
        "id": "LN1KJtJpop-r"
      },
      "source": [
        "# **Adding Flatten Layer**"
      ]
    },
    {
      "cell_type": "code",
      "execution_count": null,
      "metadata": {
        "id": "XbIx65D4pmA3"
      },
      "outputs": [],
      "source": [
        "for layer in vgg16.layers: \n",
        "  layer.trainable = False"
      ]
    },
    {
      "cell_type": "code",
      "execution_count": null,
      "metadata": {
        "id": "2fgx6VxbqJ5C"
      },
      "outputs": [],
      "source": [
        "folders = glob('/content/drive/MyDrive/Car damage/body/training/*')"
      ]
    },
    {
      "cell_type": "code",
      "execution_count": null,
      "metadata": {
        "id": "rE4TKbSvq-N5",
        "colab": {
          "base_uri": "https://localhost:8080/"
        },
        "outputId": "d1b2483a-1b09-4112-c658-b3bf4e05c1c6"
      },
      "outputs": [
        {
          "output_type": "execute_result",
          "data": {
            "text/plain": [
              "['/content/drive/MyDrive/Car damage/body/training/02-side',\n",
              " '/content/drive/MyDrive/Car damage/body/training/00-front',\n",
              " '/content/drive/MyDrive/Car damage/body/training/01-rear']"
            ]
          },
          "metadata": {},
          "execution_count": 13
        }
      ],
      "source": [
        "folders"
      ]
    },
    {
      "cell_type": "code",
      "execution_count": null,
      "metadata": {
        "id": "52cpFVoGoGS1"
      },
      "outputs": [],
      "source": [
        "x = Flatten()(vgg16.output)"
      ]
    },
    {
      "cell_type": "code",
      "execution_count": null,
      "metadata": {
        "id": "xjJMt2gPrF1j",
        "colab": {
          "base_uri": "https://localhost:8080/"
        },
        "outputId": "a86cc800-baea-49d2-8e3e-bd0c0f346490"
      },
      "outputs": [
        {
          "output_type": "execute_result",
          "data": {
            "text/plain": [
              "3"
            ]
          },
          "metadata": {},
          "execution_count": 15
        }
      ],
      "source": [
        "len(folders)"
      ]
    },
    {
      "cell_type": "markdown",
      "metadata": {
        "id": "TZBjn3gSp6Nr"
      },
      "source": [
        "# **Adding Output Layer**"
      ]
    },
    {
      "cell_type": "code",
      "execution_count": null,
      "metadata": {
        "id": "G_jbnxhzp-45"
      },
      "outputs": [],
      "source": [
        "prediction = Dense(len(folders), activation='softmax')(x)"
      ]
    },
    {
      "cell_type": "markdown",
      "metadata": {
        "id": "ibyQA19BrKtf"
      },
      "source": [
        "## **Creating a Model Object**"
      ]
    },
    {
      "cell_type": "code",
      "execution_count": null,
      "metadata": {
        "id": "wbRMvoKDqHHi"
      },
      "outputs": [],
      "source": [
        "model = Model(inputs=vgg16.input, outputs=prediction)"
      ]
    },
    {
      "cell_type": "code",
      "execution_count": null,
      "metadata": {
        "id": "ECypSeYlrbXt",
        "colab": {
          "base_uri": "https://localhost:8080/"
        },
        "outputId": "480ddb2f-d2bb-4226-d90a-09da8e0722ef"
      },
      "outputs": [
        {
          "output_type": "stream",
          "name": "stdout",
          "text": [
            "Model: \"model\"\n",
            "_________________________________________________________________\n",
            " Layer (type)                Output Shape              Param #   \n",
            "=================================================================\n",
            " input_1 (InputLayer)        [(None, 224, 224, 3)]     0         \n",
            "                                                                 \n",
            " block1_conv1 (Conv2D)       (None, 224, 224, 64)      1792      \n",
            "                                                                 \n",
            " block1_conv2 (Conv2D)       (None, 224, 224, 64)      36928     \n",
            "                                                                 \n",
            " block1_pool (MaxPooling2D)  (None, 112, 112, 64)      0         \n",
            "                                                                 \n",
            " block2_conv1 (Conv2D)       (None, 112, 112, 128)     73856     \n",
            "                                                                 \n",
            " block2_conv2 (Conv2D)       (None, 112, 112, 128)     147584    \n",
            "                                                                 \n",
            " block2_pool (MaxPooling2D)  (None, 56, 56, 128)       0         \n",
            "                                                                 \n",
            " block3_conv1 (Conv2D)       (None, 56, 56, 256)       295168    \n",
            "                                                                 \n",
            " block3_conv2 (Conv2D)       (None, 56, 56, 256)       590080    \n",
            "                                                                 \n",
            " block3_conv3 (Conv2D)       (None, 56, 56, 256)       590080    \n",
            "                                                                 \n",
            " block3_pool (MaxPooling2D)  (None, 28, 28, 256)       0         \n",
            "                                                                 \n",
            " block4_conv1 (Conv2D)       (None, 28, 28, 512)       1180160   \n",
            "                                                                 \n",
            " block4_conv2 (Conv2D)       (None, 28, 28, 512)       2359808   \n",
            "                                                                 \n",
            " block4_conv3 (Conv2D)       (None, 28, 28, 512)       2359808   \n",
            "                                                                 \n",
            " block4_pool (MaxPooling2D)  (None, 14, 14, 512)       0         \n",
            "                                                                 \n",
            " block5_conv1 (Conv2D)       (None, 14, 14, 512)       2359808   \n",
            "                                                                 \n",
            " block5_conv2 (Conv2D)       (None, 14, 14, 512)       2359808   \n",
            "                                                                 \n",
            " block5_conv3 (Conv2D)       (None, 14, 14, 512)       2359808   \n",
            "                                                                 \n",
            " block5_pool (MaxPooling2D)  (None, 7, 7, 512)         0         \n",
            "                                                                 \n",
            " flatten (Flatten)           (None, 25088)             0         \n",
            "                                                                 \n",
            " dense (Dense)               (None, 3)                 75267     \n",
            "                                                                 \n",
            "=================================================================\n",
            "Total params: 14,789,955\n",
            "Trainable params: 75,267\n",
            "Non-trainable params: 14,714,688\n",
            "_________________________________________________________________\n"
          ]
        }
      ],
      "source": [
        "model.summary()"
      ]
    },
    {
      "cell_type": "markdown",
      "metadata": {
        "id": "xOE2w5aermVu"
      },
      "source": [
        "# **Configure the Learning Process**"
      ]
    },
    {
      "cell_type": "code",
      "execution_count": null,
      "metadata": {
        "id": "XBXCIPVBrjo3"
      },
      "outputs": [],
      "source": [
        "model.compile(\n",
        "    loss = 'categorical_crossentropy',\n",
        "    optimizer='adam',\n",
        "    metrics=['accuracy']\n",
        ")"
      ]
    },
    {
      "cell_type": "markdown",
      "metadata": {
        "id": "9LKdK6SQsFt8"
      },
      "source": [
        "# **Train the Model**"
      ]
    },
    {
      "cell_type": "code",
      "execution_count": null,
      "metadata": {
        "colab": {
          "base_uri": "https://localhost:8080/"
        },
        "id": "dwWNFuTCrlfn",
        "outputId": "ebd7ddf8-a5f5-4256-a04f-0212201c0198"
      },
      "outputs": [
        {
          "output_type": "stream",
          "name": "stderr",
          "text": [
            "/usr/local/lib/python3.7/dist-packages/ipykernel_launcher.py:3: UserWarning: `Model.fit_generator` is deprecated and will be removed in a future version. Please use `Model.fit`, which supports generators.\n",
            "  This is separate from the ipykernel package so we can avoid doing imports until\n"
          ]
        },
        {
          "output_type": "stream",
          "name": "stdout",
          "text": [
            "Epoch 1/50\n",
            "98/98 [==============================] - 419s 4s/step - loss: 1.3121 - accuracy: 0.5271 - val_loss: 1.1790 - val_accuracy: 0.5789\n",
            "Epoch 2/50\n",
            "98/98 [==============================] - 15s 150ms/step - loss: 0.8225 - accuracy: 0.6895 - val_loss: 1.1433 - val_accuracy: 0.5906\n",
            "Epoch 3/50\n",
            "98/98 [==============================] - 15s 151ms/step - loss: 0.5086 - accuracy: 0.7998 - val_loss: 0.9399 - val_accuracy: 0.6491\n",
            "Epoch 4/50\n",
            "98/98 [==============================] - 15s 149ms/step - loss: 0.3860 - accuracy: 0.8519 - val_loss: 1.0874 - val_accuracy: 0.6199\n",
            "Epoch 5/50\n",
            "98/98 [==============================] - 15s 149ms/step - loss: 0.3766 - accuracy: 0.8580 - val_loss: 1.1203 - val_accuracy: 0.6257\n",
            "Epoch 6/50\n",
            "98/98 [==============================] - 15s 149ms/step - loss: 0.3042 - accuracy: 0.8825 - val_loss: 1.1767 - val_accuracy: 0.6374\n",
            "Epoch 7/50\n",
            "98/98 [==============================] - 15s 148ms/step - loss: 0.1810 - accuracy: 0.9346 - val_loss: 1.3075 - val_accuracy: 0.6257\n",
            "Epoch 8/50\n",
            "98/98 [==============================] - 15s 149ms/step - loss: 0.1669 - accuracy: 0.9397 - val_loss: 1.1077 - val_accuracy: 0.6374\n",
            "Epoch 9/50\n",
            "98/98 [==============================] - 15s 150ms/step - loss: 0.1431 - accuracy: 0.9479 - val_loss: 1.1741 - val_accuracy: 0.6374\n",
            "Epoch 10/50\n",
            "98/98 [==============================] - 15s 149ms/step - loss: 0.1076 - accuracy: 0.9622 - val_loss: 1.1879 - val_accuracy: 0.6374\n",
            "Epoch 11/50\n",
            "98/98 [==============================] - 15s 149ms/step - loss: 0.0943 - accuracy: 0.9745 - val_loss: 1.4382 - val_accuracy: 0.5906\n",
            "Epoch 12/50\n",
            "98/98 [==============================] - 14s 148ms/step - loss: 0.0819 - accuracy: 0.9745 - val_loss: 1.3478 - val_accuracy: 0.6433\n",
            "Epoch 13/50\n",
            "98/98 [==============================] - 15s 150ms/step - loss: 0.0826 - accuracy: 0.9806 - val_loss: 1.2729 - val_accuracy: 0.5731\n",
            "Epoch 14/50\n",
            "98/98 [==============================] - 15s 151ms/step - loss: 0.0680 - accuracy: 0.9796 - val_loss: 1.3456 - val_accuracy: 0.5965\n",
            "Epoch 15/50\n",
            "98/98 [==============================] - 15s 148ms/step - loss: 0.0472 - accuracy: 0.9928 - val_loss: 1.2626 - val_accuracy: 0.6491\n",
            "Epoch 16/50\n",
            "98/98 [==============================] - 15s 153ms/step - loss: 0.0425 - accuracy: 0.9939 - val_loss: 1.2507 - val_accuracy: 0.6608\n",
            "Epoch 17/50\n",
            "98/98 [==============================] - 15s 149ms/step - loss: 0.0507 - accuracy: 0.9888 - val_loss: 1.3465 - val_accuracy: 0.6374\n",
            "Epoch 18/50\n",
            "98/98 [==============================] - 15s 148ms/step - loss: 0.0379 - accuracy: 0.9949 - val_loss: 1.2706 - val_accuracy: 0.6433\n",
            "Epoch 19/50\n",
            "98/98 [==============================] - 15s 148ms/step - loss: 0.0473 - accuracy: 0.9908 - val_loss: 1.3336 - val_accuracy: 0.6491\n",
            "Epoch 20/50\n",
            "98/98 [==============================] - 15s 149ms/step - loss: 0.0250 - accuracy: 0.9969 - val_loss: 1.3328 - val_accuracy: 0.6316\n",
            "Epoch 21/50\n",
            "98/98 [==============================] - 15s 149ms/step - loss: 0.0390 - accuracy: 0.9918 - val_loss: 1.4369 - val_accuracy: 0.6082\n",
            "Epoch 22/50\n",
            "98/98 [==============================] - 15s 149ms/step - loss: 0.0313 - accuracy: 0.9928 - val_loss: 1.3893 - val_accuracy: 0.6374\n",
            "Epoch 23/50\n",
            "98/98 [==============================] - 15s 149ms/step - loss: 0.0216 - accuracy: 0.9990 - val_loss: 1.5086 - val_accuracy: 0.6082\n",
            "Epoch 24/50\n",
            "98/98 [==============================] - 15s 150ms/step - loss: 0.0494 - accuracy: 0.9857 - val_loss: 1.6832 - val_accuracy: 0.6316\n",
            "Epoch 25/50\n",
            "98/98 [==============================] - 15s 149ms/step - loss: 0.0451 - accuracy: 0.9888 - val_loss: 1.4045 - val_accuracy: 0.6842\n",
            "Epoch 26/50\n",
            "98/98 [==============================] - 15s 149ms/step - loss: 0.0312 - accuracy: 0.9898 - val_loss: 1.5165 - val_accuracy: 0.6316\n",
            "Epoch 27/50\n",
            "98/98 [==============================] - 15s 149ms/step - loss: 0.0258 - accuracy: 0.9949 - val_loss: 1.4730 - val_accuracy: 0.6374\n",
            "Epoch 28/50\n",
            "98/98 [==============================] - 15s 148ms/step - loss: 0.0290 - accuracy: 0.9928 - val_loss: 1.4869 - val_accuracy: 0.6608\n",
            "Epoch 29/50\n",
            "98/98 [==============================] - 15s 150ms/step - loss: 0.0331 - accuracy: 0.9918 - val_loss: 1.5977 - val_accuracy: 0.6199\n",
            "Epoch 30/50\n",
            "98/98 [==============================] - 15s 151ms/step - loss: 0.0418 - accuracy: 0.9867 - val_loss: 1.9397 - val_accuracy: 0.6433\n",
            "Epoch 31/50\n",
            "98/98 [==============================] - 15s 148ms/step - loss: 0.0262 - accuracy: 0.9959 - val_loss: 1.6354 - val_accuracy: 0.6257\n",
            "Epoch 32/50\n",
            "98/98 [==============================] - 15s 148ms/step - loss: 0.0352 - accuracy: 0.9877 - val_loss: 1.5702 - val_accuracy: 0.6608\n",
            "Epoch 33/50\n",
            "98/98 [==============================] - 15s 148ms/step - loss: 0.0645 - accuracy: 0.9724 - val_loss: 2.0601 - val_accuracy: 0.5848\n",
            "Epoch 34/50\n",
            "98/98 [==============================] - 15s 148ms/step - loss: 0.1085 - accuracy: 0.9612 - val_loss: 2.9228 - val_accuracy: 0.5556\n",
            "Epoch 35/50\n",
            "98/98 [==============================] - 15s 148ms/step - loss: 0.0633 - accuracy: 0.9775 - val_loss: 1.9391 - val_accuracy: 0.6082\n",
            "Epoch 36/50\n",
            "98/98 [==============================] - 15s 148ms/step - loss: 0.0710 - accuracy: 0.9755 - val_loss: 2.2934 - val_accuracy: 0.5965\n",
            "Epoch 37/50\n",
            "98/98 [==============================] - 15s 148ms/step - loss: 0.1571 - accuracy: 0.9459 - val_loss: 2.1198 - val_accuracy: 0.5965\n",
            "Epoch 38/50\n",
            "98/98 [==============================] - 15s 149ms/step - loss: 0.0856 - accuracy: 0.9704 - val_loss: 2.1374 - val_accuracy: 0.5497\n",
            "Epoch 39/50\n",
            "98/98 [==============================] - 15s 148ms/step - loss: 0.1476 - accuracy: 0.9499 - val_loss: 3.3676 - val_accuracy: 0.5906\n",
            "Epoch 40/50\n",
            "98/98 [==============================] - 15s 148ms/step - loss: 0.0851 - accuracy: 0.9724 - val_loss: 3.1305 - val_accuracy: 0.5789\n",
            "Epoch 41/50\n",
            "98/98 [==============================] - 14s 147ms/step - loss: 0.0440 - accuracy: 0.9826 - val_loss: 2.1611 - val_accuracy: 0.5965\n",
            "Epoch 42/50\n",
            "98/98 [==============================] - 14s 147ms/step - loss: 0.0265 - accuracy: 0.9918 - val_loss: 2.1988 - val_accuracy: 0.6023\n",
            "Epoch 43/50\n",
            "98/98 [==============================] - 14s 147ms/step - loss: 0.0268 - accuracy: 0.9898 - val_loss: 2.1974 - val_accuracy: 0.6082\n",
            "Epoch 44/50\n",
            "98/98 [==============================] - 14s 147ms/step - loss: 0.0093 - accuracy: 0.9969 - val_loss: 2.1967 - val_accuracy: 0.6199\n",
            "Epoch 45/50\n",
            "98/98 [==============================] - 15s 149ms/step - loss: 0.0212 - accuracy: 0.9969 - val_loss: 2.1988 - val_accuracy: 0.6199\n",
            "Epoch 46/50\n",
            "98/98 [==============================] - 15s 148ms/step - loss: 0.0605 - accuracy: 0.9775 - val_loss: 2.5273 - val_accuracy: 0.6257\n",
            "Epoch 47/50\n",
            "98/98 [==============================] - 14s 147ms/step - loss: 0.0130 - accuracy: 0.9969 - val_loss: 2.4369 - val_accuracy: 0.5965\n",
            "Epoch 48/50\n",
            "98/98 [==============================] - 14s 147ms/step - loss: 0.0285 - accuracy: 0.9867 - val_loss: 2.6190 - val_accuracy: 0.5556\n",
            "Epoch 49/50\n",
            "98/98 [==============================] - 14s 148ms/step - loss: 0.0404 - accuracy: 0.9877 - val_loss: 2.3835 - val_accuracy: 0.6550\n",
            "Epoch 50/50\n",
            "98/98 [==============================] - 14s 147ms/step - loss: 0.0139 - accuracy: 0.9959 - val_loss: 2.3079 - val_accuracy: 0.6199\n"
          ]
        }
      ],
      "source": [
        "r = model.fit_generator(\n",
        "    training_set,\n",
        "    validation_data = test_set, epochs=50, steps_per_epoch = len(training_set), validation_steps=len(test_set)\n",
        ")"
      ]
    },
    {
      "cell_type": "markdown",
      "metadata": {
        "id": "z8c5kgWsssi_"
      },
      "source": [
        "# **Save the Model**"
      ]
    },
    {
      "cell_type": "code",
      "execution_count": null,
      "metadata": {
        "id": "6FIUU25Csjag"
      },
      "outputs": [],
      "source": [
        "from tensorflow.keras.models import load_model \n",
        "model.save('/content/drive/MyDrive/Vehicle damage/body.h5')"
      ]
    },
    {
      "cell_type": "markdown",
      "metadata": {
        "id": "C9N1PGC_uZIu"
      },
      "source": [
        "# **Test the model**"
      ]
    },
    {
      "cell_type": "code",
      "execution_count": null,
      "metadata": {
        "id": "s7DLqgkOufjm"
      },
      "outputs": [],
      "source": [
        "from tensorflow.keras.models import load_model\n",
        "import cv2\n",
        "from skimage.transform import resize\n"
      ]
    },
    {
      "cell_type": "code",
      "execution_count": null,
      "metadata": {
        "id": "iIOvbBv-utnY"
      },
      "outputs": [],
      "source": [
        "model = load_model('/content/drive/MyDrive/Vehicle damage/body.h5')"
      ]
    },
    {
      "cell_type": "code",
      "execution_count": null,
      "metadata": {
        "id": "NXXS1gwKu_iA"
      },
      "outputs": [],
      "source": [
        "def detect (frame):\n",
        "  img=cv2. resize (frame, (224, 224) )\n",
        "  img = cv2. cvtColor (img, cv2. COLOR_BGR2RGB)\n",
        "  if (np.max (img) >1):\n",
        "    img = img/255.0\n",
        "  img = np.array([img])\n",
        "  prediction = model .predict (img)\n",
        "  label = [\"front\", \"rear\", \"side\"]\n",
        "  preds = label[np.argmax(prediction)]\n",
        "  return preds\n"
      ]
    },
    {
      "cell_type": "code",
      "execution_count": null,
      "metadata": {
        "id": "v5-fTk6Kvcqc"
      },
      "outputs": [],
      "source": [
        "import numpy as np"
      ]
    },
    {
      "cell_type": "code",
      "execution_count": null,
      "metadata": {
        "id": "IuO1mcsjvf-5",
        "colab": {
          "base_uri": "https://localhost:8080/"
        },
        "outputId": "04e23616-1d92-4fa1-cf6f-de76559dde07"
      },
      "outputs": [
        {
          "output_type": "stream",
          "name": "stdout",
          "text": [
            "1/1 [==============================] - 0s 141ms/step\n",
            "rear\n"
          ]
        }
      ],
      "source": [
        "data = '/content/drive/MyDrive/Car damage/body/training/01-rear/0008.JPEG'\n",
        "image= cv2.imread(data)\n",
        "print(detect(image))"
      ]
    },
    {
      "cell_type": "markdown",
      "metadata": {
        "id": "Ve40JVITv1yl"
      },
      "source": [
        "# **For Level Damage**"
      ]
    },
    {
      "cell_type": "markdown",
      "metadata": {
        "id": "ZHmdOekGv5ea"
      },
      "source": [
        "**Import the ImageDataGenerator Library**"
      ]
    },
    {
      "cell_type": "code",
      "execution_count": null,
      "metadata": {
        "id": "mV2NxR7Lv4V7"
      },
      "outputs": [],
      "source": [
        "from tensorflow.keras.preprocessing.image import ImageDataGenerator\n"
      ]
    },
    {
      "cell_type": "markdown",
      "metadata": {
        "id": "goA8QmQowVz6"
      },
      "source": [
        "# **Model Building**"
      ]
    },
    {
      "cell_type": "code",
      "execution_count": null,
      "metadata": {
        "id": "1lhYy0F9wYg9"
      },
      "outputs": [],
      "source": [
        "import tensorflow as tf\n",
        "from tensorflow.keras.layers import Input, Lambda, Dense, Flatten\n",
        "from tensorflow.keras.models import Model\n",
        "from tensorflow.keras.applications.vgg16 import VGG16\n",
        "from tensorflow.keras.applications.vgg19 import VGG19\n",
        "from tensorflow.keras.preprocessing import image\n",
        "from tensorflow.keras.preprocessing.image import ImageDataGenerator, load_img\n",
        "from tensorflow.keras.models import Sequential\n",
        "import numpy as np\n",
        "from glob import glob"
      ]
    },
    {
      "cell_type": "markdown",
      "metadata": {
        "id": "Cs1S9-1uwhfg"
      },
      "source": [
        "# **Loading the Model**"
      ]
    },
    {
      "cell_type": "code",
      "execution_count": null,
      "metadata": {
        "id": "PDnOGFMRwdmU"
      },
      "outputs": [],
      "source": [
        "Image_Size = [224,224,3]\n",
        "\n",
        "train_path='/content/drive/MyDrive/Car damage/level/training'\n",
        "valid_path='/content/drive/MyDrive/Car damage/level/validation'"
      ]
    },
    {
      "cell_type": "code",
      "execution_count": null,
      "metadata": {
        "id": "5q1QPDQMw6Pz"
      },
      "outputs": [],
      "source": [
        "vgg16 = VGG16(input_shape=Image_Size, weights='imagenet', include_top=False) "
      ]
    },
    {
      "cell_type": "markdown",
      "metadata": {
        "id": "l0N6Ymu3xBJE"
      },
      "source": [
        "# **Adding Flatten Layer**"
      ]
    },
    {
      "cell_type": "code",
      "execution_count": null,
      "metadata": {
        "id": "i8W1lJoexDuv"
      },
      "outputs": [],
      "source": [
        "for layer in vgg16.layers: \n",
        "  layer.trainable = False"
      ]
    },
    {
      "cell_type": "code",
      "execution_count": null,
      "metadata": {
        "id": "JtdZys6zxN9K"
      },
      "outputs": [],
      "source": [
        "folders = glob('/content/drive/MyDrive/Car damage/level/training/*')"
      ]
    },
    {
      "cell_type": "code",
      "execution_count": null,
      "metadata": {
        "id": "_Rsv3aj_xV_N",
        "colab": {
          "base_uri": "https://localhost:8080/"
        },
        "outputId": "b57a3f0e-e072-4b2b-958a-069e5c5af0aa"
      },
      "outputs": [
        {
          "output_type": "execute_result",
          "data": {
            "text/plain": [
              "['/content/drive/MyDrive/Car damage/level/training/02-moderate',\n",
              " '/content/drive/MyDrive/Car damage/level/training/03-severe',\n",
              " '/content/drive/MyDrive/Car damage/level/training/01-minor']"
            ]
          },
          "metadata": {},
          "execution_count": 33
        }
      ],
      "source": [
        "folders"
      ]
    },
    {
      "cell_type": "code",
      "execution_count": null,
      "metadata": {
        "id": "sOw3TDb9xXsi"
      },
      "outputs": [],
      "source": [
        "x = Flatten() (vgg16.output)"
      ]
    },
    {
      "cell_type": "code",
      "execution_count": null,
      "metadata": {
        "id": "5NckCen2xd7n",
        "colab": {
          "base_uri": "https://localhost:8080/"
        },
        "outputId": "0f367746-d527-47d7-90dd-de5cf4a0c017"
      },
      "outputs": [
        {
          "output_type": "execute_result",
          "data": {
            "text/plain": [
              "3"
            ]
          },
          "metadata": {},
          "execution_count": 35
        }
      ],
      "source": [
        "len(folders)"
      ]
    },
    {
      "cell_type": "markdown",
      "metadata": {
        "id": "4xfW57C6xhoa"
      },
      "source": [
        "# **Adding Output Layers**"
      ]
    },
    {
      "cell_type": "code",
      "execution_count": null,
      "metadata": {
        "id": "OLVjxBmkxkkV"
      },
      "outputs": [],
      "source": [
        "prediction = Dense(len(folders), activation='softmax')(x)"
      ]
    },
    {
      "cell_type": "markdown",
      "metadata": {
        "id": "bLo-YHuKxx7d"
      },
      "source": [
        "# **Creating a model Object**"
      ]
    },
    {
      "cell_type": "code",
      "execution_count": null,
      "metadata": {
        "id": "vDlO0Z7hx2h8"
      },
      "outputs": [],
      "source": [
        "model = Model(inputs=vgg16.input, outputs=prediction)"
      ]
    },
    {
      "cell_type": "code",
      "execution_count": null,
      "metadata": {
        "id": "xekIOVjRyZ7T",
        "colab": {
          "base_uri": "https://localhost:8080/"
        },
        "outputId": "3639aa9e-5b2b-4ca7-9272-7780f5d91a08"
      },
      "outputs": [
        {
          "output_type": "stream",
          "name": "stdout",
          "text": [
            "Model: \"model_1\"\n",
            "_________________________________________________________________\n",
            " Layer (type)                Output Shape              Param #   \n",
            "=================================================================\n",
            " input_2 (InputLayer)        [(None, 224, 224, 3)]     0         \n",
            "                                                                 \n",
            " block1_conv1 (Conv2D)       (None, 224, 224, 64)      1792      \n",
            "                                                                 \n",
            " block1_conv2 (Conv2D)       (None, 224, 224, 64)      36928     \n",
            "                                                                 \n",
            " block1_pool (MaxPooling2D)  (None, 112, 112, 64)      0         \n",
            "                                                                 \n",
            " block2_conv1 (Conv2D)       (None, 112, 112, 128)     73856     \n",
            "                                                                 \n",
            " block2_conv2 (Conv2D)       (None, 112, 112, 128)     147584    \n",
            "                                                                 \n",
            " block2_pool (MaxPooling2D)  (None, 56, 56, 128)       0         \n",
            "                                                                 \n",
            " block3_conv1 (Conv2D)       (None, 56, 56, 256)       295168    \n",
            "                                                                 \n",
            " block3_conv2 (Conv2D)       (None, 56, 56, 256)       590080    \n",
            "                                                                 \n",
            " block3_conv3 (Conv2D)       (None, 56, 56, 256)       590080    \n",
            "                                                                 \n",
            " block3_pool (MaxPooling2D)  (None, 28, 28, 256)       0         \n",
            "                                                                 \n",
            " block4_conv1 (Conv2D)       (None, 28, 28, 512)       1180160   \n",
            "                                                                 \n",
            " block4_conv2 (Conv2D)       (None, 28, 28, 512)       2359808   \n",
            "                                                                 \n",
            " block4_conv3 (Conv2D)       (None, 28, 28, 512)       2359808   \n",
            "                                                                 \n",
            " block4_pool (MaxPooling2D)  (None, 14, 14, 512)       0         \n",
            "                                                                 \n",
            " block5_conv1 (Conv2D)       (None, 14, 14, 512)       2359808   \n",
            "                                                                 \n",
            " block5_conv2 (Conv2D)       (None, 14, 14, 512)       2359808   \n",
            "                                                                 \n",
            " block5_conv3 (Conv2D)       (None, 14, 14, 512)       2359808   \n",
            "                                                                 \n",
            " block5_pool (MaxPooling2D)  (None, 7, 7, 512)         0         \n",
            "                                                                 \n",
            " flatten_1 (Flatten)         (None, 25088)             0         \n",
            "                                                                 \n",
            " dense_1 (Dense)             (None, 3)                 75267     \n",
            "                                                                 \n",
            "=================================================================\n",
            "Total params: 14,789,955\n",
            "Trainable params: 75,267\n",
            "Non-trainable params: 14,714,688\n",
            "_________________________________________________________________\n"
          ]
        }
      ],
      "source": [
        "model.summary()"
      ]
    },
    {
      "cell_type": "markdown",
      "metadata": {
        "id": "MP-yQIAzydgP"
      },
      "source": [
        "# **Configure the learining Process**"
      ]
    },
    {
      "cell_type": "code",
      "execution_count": null,
      "metadata": {
        "id": "V32V-sAaygl-"
      },
      "outputs": [],
      "source": [
        "model.compile(\n",
        "loss='categorical_crossentropy',\n",
        "optimizer='adam',\n",
        "metrics=['accuracy']\n",
        ")"
      ]
    },
    {
      "cell_type": "markdown",
      "metadata": {
        "id": "rAqF7nnyy7fR"
      },
      "source": [
        "# **Train the Model**"
      ]
    },
    {
      "cell_type": "code",
      "execution_count": null,
      "metadata": {
        "id": "zE1s8AD2y9t3",
        "colab": {
          "base_uri": "https://localhost:8080/"
        },
        "outputId": "6141386d-2c4e-4664-d1fe-32b47cb40c16"
      },
      "outputs": [
        {
          "output_type": "stream",
          "name": "stderr",
          "text": [
            "/usr/local/lib/python3.7/dist-packages/ipykernel_launcher.py:3: UserWarning: `Model.fit_generator` is deprecated and will be removed in a future version. Please use `Model.fit`, which supports generators.\n",
            "  This is separate from the ipykernel package so we can avoid doing imports until\n"
          ]
        },
        {
          "output_type": "stream",
          "name": "stdout",
          "text": [
            "Epoch 1/50\n",
            "98/98 [==============================] - 16s 154ms/step - loss: 1.1733 - accuracy: 0.5444 - val_loss: 1.2454 - val_accuracy: 0.5614\n",
            "Epoch 2/50\n",
            "98/98 [==============================] - 15s 151ms/step - loss: 0.6501 - accuracy: 0.7344 - val_loss: 1.0317 - val_accuracy: 0.6374\n",
            "Epoch 3/50\n",
            "98/98 [==============================] - 15s 149ms/step - loss: 0.5561 - accuracy: 0.7732 - val_loss: 1.4555 - val_accuracy: 0.5146\n",
            "Epoch 4/50\n",
            "98/98 [==============================] - 15s 150ms/step - loss: 0.4579 - accuracy: 0.8335 - val_loss: 1.0076 - val_accuracy: 0.6199\n",
            "Epoch 5/50\n",
            "98/98 [==============================] - 15s 149ms/step - loss: 0.3093 - accuracy: 0.8805 - val_loss: 1.8570 - val_accuracy: 0.5029\n",
            "Epoch 6/50\n",
            "98/98 [==============================] - 15s 148ms/step - loss: 0.3069 - accuracy: 0.8856 - val_loss: 1.1092 - val_accuracy: 0.6608\n",
            "Epoch 7/50\n",
            "98/98 [==============================] - 15s 149ms/step - loss: 0.1748 - accuracy: 0.9367 - val_loss: 1.2303 - val_accuracy: 0.6082\n",
            "Epoch 8/50\n",
            "98/98 [==============================] - 15s 152ms/step - loss: 0.1420 - accuracy: 0.9459 - val_loss: 1.1091 - val_accuracy: 0.6199\n",
            "Epoch 9/50\n",
            "98/98 [==============================] - 15s 149ms/step - loss: 0.1160 - accuracy: 0.9663 - val_loss: 1.1730 - val_accuracy: 0.6374\n",
            "Epoch 10/50\n",
            "98/98 [==============================] - 15s 149ms/step - loss: 0.0795 - accuracy: 0.9826 - val_loss: 1.1828 - val_accuracy: 0.6257\n",
            "Epoch 11/50\n",
            "98/98 [==============================] - 15s 150ms/step - loss: 0.0872 - accuracy: 0.9745 - val_loss: 1.1633 - val_accuracy: 0.6725\n",
            "Epoch 12/50\n",
            "98/98 [==============================] - 15s 150ms/step - loss: 0.0948 - accuracy: 0.9816 - val_loss: 1.3557 - val_accuracy: 0.5906\n",
            "Epoch 13/50\n",
            "98/98 [==============================] - 15s 150ms/step - loss: 0.0864 - accuracy: 0.9775 - val_loss: 1.3126 - val_accuracy: 0.6491\n",
            "Epoch 14/50\n",
            "98/98 [==============================] - 15s 148ms/step - loss: 0.0579 - accuracy: 0.9826 - val_loss: 1.2658 - val_accuracy: 0.6608\n",
            "Epoch 15/50\n",
            "98/98 [==============================] - 15s 149ms/step - loss: 0.0542 - accuracy: 0.9847 - val_loss: 1.4101 - val_accuracy: 0.5965\n",
            "Epoch 16/50\n",
            "98/98 [==============================] - 15s 149ms/step - loss: 0.0534 - accuracy: 0.9857 - val_loss: 1.4102 - val_accuracy: 0.6374\n",
            "Epoch 17/50\n",
            "98/98 [==============================] - 15s 149ms/step - loss: 0.0348 - accuracy: 0.9969 - val_loss: 1.3461 - val_accuracy: 0.6550\n",
            "Epoch 18/50\n",
            "98/98 [==============================] - 15s 149ms/step - loss: 0.0329 - accuracy: 0.9949 - val_loss: 1.3319 - val_accuracy: 0.6491\n",
            "Epoch 19/50\n",
            "98/98 [==============================] - 15s 149ms/step - loss: 0.0534 - accuracy: 0.9857 - val_loss: 1.4191 - val_accuracy: 0.6023\n",
            "Epoch 20/50\n",
            "98/98 [==============================] - 15s 149ms/step - loss: 0.0382 - accuracy: 0.9908 - val_loss: 1.3793 - val_accuracy: 0.6608\n",
            "Epoch 21/50\n",
            "98/98 [==============================] - 15s 150ms/step - loss: 0.0631 - accuracy: 0.9785 - val_loss: 1.6563 - val_accuracy: 0.5965\n",
            "Epoch 22/50\n",
            "98/98 [==============================] - 15s 149ms/step - loss: 0.0325 - accuracy: 0.9898 - val_loss: 1.4375 - val_accuracy: 0.6140\n",
            "Epoch 23/50\n",
            "98/98 [==============================] - 15s 150ms/step - loss: 0.0211 - accuracy: 0.9959 - val_loss: 1.4361 - val_accuracy: 0.6316\n",
            "Epoch 24/50\n",
            "98/98 [==============================] - 15s 149ms/step - loss: 0.0361 - accuracy: 0.9908 - val_loss: 1.3867 - val_accuracy: 0.6608\n",
            "Epoch 25/50\n",
            "98/98 [==============================] - 15s 150ms/step - loss: 0.0468 - accuracy: 0.9898 - val_loss: 1.5406 - val_accuracy: 0.5848\n",
            "Epoch 26/50\n",
            "98/98 [==============================] - 15s 149ms/step - loss: 0.0586 - accuracy: 0.9857 - val_loss: 1.4525 - val_accuracy: 0.6433\n",
            "Epoch 27/50\n",
            "98/98 [==============================] - 15s 149ms/step - loss: 0.0371 - accuracy: 0.9898 - val_loss: 1.4893 - val_accuracy: 0.6374\n",
            "Epoch 28/50\n",
            "98/98 [==============================] - 15s 151ms/step - loss: 0.0489 - accuracy: 0.9847 - val_loss: 1.7258 - val_accuracy: 0.6433\n",
            "Epoch 29/50\n",
            "98/98 [==============================] - 15s 153ms/step - loss: 0.0815 - accuracy: 0.9683 - val_loss: 1.8544 - val_accuracy: 0.5848\n",
            "Epoch 30/50\n",
            "98/98 [==============================] - 15s 150ms/step - loss: 0.0847 - accuracy: 0.9673 - val_loss: 1.9700 - val_accuracy: 0.5906\n",
            "Epoch 31/50\n",
            "98/98 [==============================] - 15s 149ms/step - loss: 0.0985 - accuracy: 0.9653 - val_loss: 1.7910 - val_accuracy: 0.5848\n",
            "Epoch 32/50\n",
            "98/98 [==============================] - 15s 149ms/step - loss: 0.0330 - accuracy: 0.9898 - val_loss: 1.9731 - val_accuracy: 0.5556\n",
            "Epoch 33/50\n",
            "98/98 [==============================] - 15s 149ms/step - loss: 0.0418 - accuracy: 0.9918 - val_loss: 1.7713 - val_accuracy: 0.6082\n",
            "Epoch 34/50\n",
            "98/98 [==============================] - 15s 150ms/step - loss: 0.0476 - accuracy: 0.9847 - val_loss: 1.7029 - val_accuracy: 0.6199\n",
            "Epoch 35/50\n",
            "98/98 [==============================] - 15s 149ms/step - loss: 0.0105 - accuracy: 0.9980 - val_loss: 1.7933 - val_accuracy: 0.6140\n",
            "Epoch 36/50\n",
            "98/98 [==============================] - 15s 149ms/step - loss: 0.0172 - accuracy: 0.9969 - val_loss: 1.6946 - val_accuracy: 0.5906\n",
            "Epoch 37/50\n",
            "98/98 [==============================] - 15s 149ms/step - loss: 0.0073 - accuracy: 0.9990 - val_loss: 1.7994 - val_accuracy: 0.5848\n",
            "Epoch 38/50\n",
            "98/98 [==============================] - 15s 148ms/step - loss: 0.0102 - accuracy: 0.9969 - val_loss: 1.8899 - val_accuracy: 0.5906\n",
            "Epoch 39/50\n",
            "98/98 [==============================] - 15s 150ms/step - loss: 0.0564 - accuracy: 0.9816 - val_loss: 1.8847 - val_accuracy: 0.6316\n",
            "Epoch 40/50\n",
            "98/98 [==============================] - 15s 149ms/step - loss: 0.0841 - accuracy: 0.9704 - val_loss: 2.2525 - val_accuracy: 0.5673\n",
            "Epoch 41/50\n",
            "98/98 [==============================] - 15s 151ms/step - loss: 0.0676 - accuracy: 0.9765 - val_loss: 2.1135 - val_accuracy: 0.6023\n",
            "Epoch 42/50\n",
            "98/98 [==============================] - 15s 149ms/step - loss: 0.0239 - accuracy: 0.9928 - val_loss: 2.2352 - val_accuracy: 0.6082\n",
            "Epoch 43/50\n",
            "98/98 [==============================] - 15s 149ms/step - loss: 0.0626 - accuracy: 0.9796 - val_loss: 2.4197 - val_accuracy: 0.6023\n",
            "Epoch 44/50\n",
            "98/98 [==============================] - 15s 151ms/step - loss: 0.0467 - accuracy: 0.9816 - val_loss: 2.6181 - val_accuracy: 0.5731\n",
            "Epoch 45/50\n",
            "98/98 [==============================] - 15s 150ms/step - loss: 0.0210 - accuracy: 0.9949 - val_loss: 2.1620 - val_accuracy: 0.6257\n",
            "Epoch 46/50\n",
            "98/98 [==============================] - 15s 150ms/step - loss: 0.0459 - accuracy: 0.9857 - val_loss: 2.2432 - val_accuracy: 0.6257\n",
            "Epoch 47/50\n",
            "98/98 [==============================] - 15s 149ms/step - loss: 0.0998 - accuracy: 0.9724 - val_loss: 2.2733 - val_accuracy: 0.6199\n",
            "Epoch 48/50\n",
            "98/98 [==============================] - 15s 151ms/step - loss: 0.0282 - accuracy: 0.9898 - val_loss: 2.3332 - val_accuracy: 0.5965\n",
            "Epoch 49/50\n",
            "98/98 [==============================] - 15s 151ms/step - loss: 0.0081 - accuracy: 0.9959 - val_loss: 2.3654 - val_accuracy: 0.6199\n",
            "Epoch 50/50\n",
            "98/98 [==============================] - 15s 152ms/step - loss: 0.0477 - accuracy: 0.9847 - val_loss: 2.7030 - val_accuracy: 0.6023\n"
          ]
        }
      ],
      "source": [
        "r = model.fit_generator(\n",
        "    training_set,\n",
        "    validation_data = test_set, epochs=50, steps_per_epoch = len(training_set), validation_steps=len(test_set)\n",
        ")"
      ]
    },
    {
      "cell_type": "markdown",
      "metadata": {
        "id": "cCkRkgH3zuIG"
      },
      "source": [
        "# **Save the Model**"
      ]
    },
    {
      "cell_type": "code",
      "execution_count": null,
      "metadata": {
        "id": "6rVxnkAhzrh6"
      },
      "outputs": [],
      "source": [
        "from tensorflow.keras.models import load_model \n",
        "model.save('/content/drive/MyDrive/Vehicle damage/level.h5')"
      ]
    },
    {
      "cell_type": "markdown",
      "metadata": {
        "id": "IanmQdYV0BhW"
      },
      "source": [
        "Test the Model"
      ]
    },
    {
      "cell_type": "code",
      "execution_count": null,
      "metadata": {
        "id": "T7x-2Twg0BR9"
      },
      "outputs": [],
      "source": [
        "from tensorflow.keras.models import load_model\n",
        "import cv2\n",
        "from skimage.transform import resize\n"
      ]
    },
    {
      "cell_type": "code",
      "execution_count": null,
      "metadata": {
        "id": "qixPTJ7O0IHP"
      },
      "outputs": [],
      "source": [
        "model = load_model('/content/drive/MyDrive/Vehicle damage/level.h5')"
      ]
    },
    {
      "cell_type": "code",
      "execution_count": null,
      "metadata": {
        "id": "Por-5QKg0MVq"
      },
      "outputs": [],
      "source": [
        "def detect(frame):\n",
        "  img = cv2.resize (frame, (224,224))\n",
        "  img = cv2.cvtColor (img, cv2.COLOR_BGR2RGB)\n",
        "\n",
        "  if (np.max(img)>1):\n",
        "    img = img/255.0\n",
        "  img = np.array([img])\n",
        "  prediction = model.predict (img)\n",
        "  label = [\"minor\", \"moderate\", \"severe\"]\n",
        "  preds = label[np.argmax (prediction) ]\n",
        "  return preds\n"
      ]
    },
    {
      "cell_type": "code",
      "execution_count": null,
      "metadata": {
        "id": "Lm5N1cPL0iMg"
      },
      "outputs": [],
      "source": [
        "import numpy as np\n",
        "import PIL\n",
        "from IPython import display\n",
        "\n",
        "def cv2_imshow(a):\n",
        "    a = a.clip(0, 255).astype('uint8')\n",
        "    if a.ndim == 3:\n",
        "        if a.shape[2] == 4:\n",
        "            a = cv2.cvtColor(a, cv2.COLOR_BGRA2RGBA)\n",
        "        else:\n",
        "            a = cv2.cvtColor(a, cv2.COLOR_BGR2RGB)\n",
        "    display.display(PIL.Image.fromarray(a))"
      ]
    },
    {
      "cell_type": "code",
      "execution_count": null,
      "metadata": {
        "id": "aGwCseJ00kbt",
        "colab": {
          "base_uri": "https://localhost:8080/",
          "height": 235
        },
        "outputId": "07f9b954-a7f7-468a-c0a0-d2dcfb0db351"
      },
      "outputs": [
        {
          "output_type": "display_data",
          "data": {
            "text/plain": [
              "<PIL.Image.Image image mode=RGB size=275x183 at 0x7FBF4DD54E50>"
            ],
            "image/png": "[encoded data removed]"
          },
          "metadata": {}
        },
        {
          "output_type": "stream",
          "name": "stdout",
          "text": [
            "1/1 [==============================] - 0s 123ms/step\n",
            "severe\n"
          ]
        }
      ],
      "source": [
        "data = '/content/drive/MyDrive/Car damage/level/validation/03-severe/0004.JPEG'\n",
        "image = cv2.imread(data)\n",
        "cv2_imshow(image)\n",
        "print(detect(image))"
      ]
    }
  ],
  "metadata": {
    "colab": {
      "provenance": [],
      "collapsed_sections": [
        "LN1KJtJpop-r",
        "TZBjn3gSp6Nr",
        "ibyQA19BrKtf",
        "xOE2w5aermVu",
        "9LKdK6SQsFt8",
        "z8c5kgWsssi_",
        "C9N1PGC_uZIu",
        "Ve40JVITv1yl",
        "goA8QmQowVz6",
        "Cs1S9-1uwhfg",
        "l0N6Ymu3xBJE",
        "4xfW57C6xhoa",
        "bLo-YHuKxx7d",
        "MP-yQIAzydgP",
        "rAqF7nnyy7fR"
      ]
    },
    "kernelspec": {
      "display_name": "Python 3",
      "name": "python3"
    },
    "language_info": {
      "name": "python"
    },
    "accelerator": "GPU",
    "gpuClass": "standard"
  },
  "nbformat": 4,
  "nbformat_minor": 0
}